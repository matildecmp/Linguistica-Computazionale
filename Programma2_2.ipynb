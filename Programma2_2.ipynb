{
 "cells": [
  {
   "cell_type": "markdown",
   "metadata": {
    "id": "3nzsVSKuvIuD"
   },
   "source": [
    "**PROGRAMMA 2.2**\n",
    "\n",
    "Dopo aver creato un corpus in lingua inglese, contenente testi estratti da alcuni romanzi di fantascienza (\"scifi.txt\"), il programma estrae le seguenti informazioni:"
   ]
  },
  {
   "cell_type": "code",
   "execution_count": 1,
   "metadata": {
    "colab": {
     "base_uri": "https://localhost:8080/"
    },
    "id": "uAsXbXw9vbRj",
    "outputId": "7db21804-b610-4b5e-80a1-233007b3b063"
   },
   "outputs": [],
   "source": [
    "# MODULI NECESSARI:\n",
    "\n",
    "import nltk\n",
    "import math"
   ]
  },
  {
   "cell_type": "code",
   "execution_count": 2,
   "metadata": {
    "id": "uDrQ1fbIvczk"
   },
   "outputs": [],
   "source": [
    "# FUNZIONE CHE LEGGE E RESTITUISCE IL TESTO CONTENUTO NEL FILE:\n",
    "\n",
    "def leggi_file(path_file):\n",
    "    with open (path_file, 'r') as file:\n",
    "      contenuto = file.read() # stringa con l'intero contenuto del file\n",
    "    return contenuto\n",
    "\n",
    "# FUNZIONE CHE OPERA IL POS-TAGGING SUI TOKEN DEL TESTO:\n",
    "\n",
    "def pos_tagger(tokens):\n",
    "  pos_tagging = nltk.tag.pos_tag(tokens)\n",
    "  return pos_tagging\n",
    "\n",
    "# VARIABILI PER IL PATH DEL FILE, IL RAW TEXT, LA LISTA DI TOKEN, LA LISTA DI FRASI E LA LISTA DI TUPLE TOKEN-POS DEL TESTO:\n",
    "\n",
    "# path del file:\n",
    "f2 = \"./scifi.txt\" \n",
    "# raw text:\n",
    "contenuto_f2 = leggi_file(f2)\n",
    "# lista di frasi del testo:\n",
    "frasi_2 = nltk.tokenize.sent_tokenize(contenuto_f2)\n",
    "# lista di token del testo:\n",
    "tokens_2 = nltk.tokenize.word_tokenize(contenuto_f2)\n",
    "# lista token-PoS del testo:\n",
    "token_pos_2 = pos_tagger(tokens_2)"
   ]
  },
  {
   "cell_type": "code",
   "execution_count": 3,
   "metadata": {
    "colab": {
     "base_uri": "https://localhost:8080/"
    },
    "id": "evB2xZMgvmJ7",
    "outputId": "d7432238-5ddf-4a28-a6e0-a0e617e79c4a"
   },
   "outputs": [
    {
     "name": "stdout",
     "output_type": "stream",
     "text": [
      "10 PoS più frequenti nel corpus: [('NN', 1461), ('IN', 1134), ('DT', 1092), ('PRP', 794), ('.', 754), ('VBD', 745), (',', 635), ('JJ', 629), ('RB', 509), ('NNP', 432)]\n",
      "\n",
      "10 bigrammi di PoS più frequenti nel corpus: [(('DT', 'NN'), 571), (('IN', 'DT'), 474), (('NN', 'IN'), 366), (('JJ', 'NN'), 300), (('PRP', 'VBD'), 297), (('NN', '.'), 263), (('DT', 'JJ'), 252), (('NN', ','), 236), (('.', \"''\"), 152), (('NNP', 'VBD'), 148)]\n",
      "\n",
      "10 trigrammi di PoS più frequenti nel corpus: [(('IN', 'DT', 'NN'), 259), (('DT', 'JJ', 'NN'), 194), (('DT', 'NN', 'IN'), 173), (('NN', 'IN', 'DT'), 161), (('IN', 'DT', 'JJ'), 106), (('DT', 'NN', '.'), 85), (('DT', 'NN', ','), 80), ((\"''\", 'NNP', 'VBD'), 80), (('VBD', 'DT', 'NN'), 74), (('JJ', 'NN', 'IN'), 71)]\n",
      "\n",
      "20 sostantivi più frequenti nel corpus: [('Paul', 69), ('Halleck', 34), ('Hawat', 30), ('ocean', 24), ('Rachael', 21), ('room', 19), ('table', 18), ('years', 18), ('door', 17), ('time', 17), ('Solaris', 16), ('Gurney', 15), ('planet', 14), ('shield', 13), ('life', 13), ('man', 13), ('orbit', 12), ('father', 12), ('hand', 11), ('Arrakis', 11)]\n",
      "\n",
      "20 avverbi più frequenti nel corpus: [('not', 49), (\"n't\", 37), ('now', 19), ('only', 13), ('so', 13), ('back', 13), ('then', 12), ('even', 10), ('there', 10), ('here', 10), ('never', 10), ('as', 9), ('down', 9), ('too', 9), ('almost', 8), ('ever', 8), ('just', 8), ('again', 7), ('already', 7), ('So', 7)]\n",
      "\n",
      "20 aggettivi più frequenti nel corpus: [('other', 11), ('old', 10), ('own', 8), ('first', 7), ('many', 7), ('same', 6), ('good', 6), ('great', 6), ('high', 6), ('new', 6), ('left', 6), ('bad', 6), ('full', 5), ('few', 5), ('second', 5), ('capable', 5), ('such', 5), ('real', 5), ('big', 4), ('long', 4)]\n"
     ]
    }
   ],
   "source": [
    "# 2.1. FUNZIONI CHE RESTITUISCONO LA SEQUENZA, ORDINATA PER FREQUENZA DECRESCENTE E CON RELATIVA FREQUENZA, DI:\n",
    "\n",
    "# A) 10 POS, BIGRAMMI DI POS E TRIGRAMMI DI POS PIU' FREQUENTI:\n",
    "\n",
    "def dieci_elementi_più_freq(tokens, n):\n",
    "  lista_token_pos = pos_tagger(tokens) # lista per le coppie (token, PoS), ottenuta invocando la funzione nella cella precedente\n",
    "  solo_pos = [] # lista per le sole PoS\n",
    "  for token, pos in lista_token_pos: # per ogni coppia (token, PoS) in \"lista_token_pos\"\n",
    "    solo_pos.append(pos) # estraggo solo la PoS e la inserisco nella lista \"solo_pos\"\n",
    "  if n != 1: # se considero gli n-grammi di PoS\n",
    "    ngrammi = list(nltk.ngrams(solo_pos, n)) # creo una lista di n-grammi di PoS\n",
    "    frequenze = nltk.FreqDist(ngrammi) # calcolo le frequenze (già ordinate per valori decrescenti, grazie alla funzione FreqDist()) degli n-grammi nella lista\n",
    "    return frequenze.most_common(10) # e restituisco i 10 n-grammi di PoS più frequenti\n",
    "  else: # se invece considero le PoS dei singoli token\n",
    "    frequenze = nltk.FreqDist(solo_pos) # calcolo le frequenze delle PoS nella lista\n",
    "    return frequenze.most_common(10) # e restituisco le 10 PoS più frequenti\n",
    "\n",
    "print(f\"10 PoS più frequenti nel corpus: {dieci_elementi_più_freq(tokens_2, 1)}\")\n",
    "print()\n",
    "print(f\"10 bigrammi di PoS più frequenti nel corpus: {dieci_elementi_più_freq(tokens_2, 2)}\")\n",
    "print()\n",
    "print(f\"10 trigrammi di PoS più frequenti nel corpus: {dieci_elementi_più_freq(tokens_2, 3)}\")\n",
    "print()\n",
    "\n",
    "# B) 20 SOSTANTIVI, AVVERBI E AGGETTIVI PIU' FREQUENTI:\n",
    "\n",
    "def venti_elementi_più_freq(lista_token_pos, lista_tag): # funzione che prende in input la lista di coppie (token, PoS) e la lista che contiene uno o più tag associati ad una data PoS (es: per la PoS dei nomi, si hanno i tag NN, NNP, NNPS, ecc.)\n",
    "  lista_token_tag = [] # lista di token identificati da uno dei possibili tag della PoS (= \"lista_tag\") in input \n",
    "  for token, pos in lista_token_pos: # per ogni coppia (token, PoS) in \"lista_token_pos\"\n",
    "    for tag in lista_tag: # per ogni tag in \"lista_tag\"\n",
    "      if pos == tag: # se il PoS-tag del token coincide con un tag della lista in input\n",
    "        lista_token_tag.append(token) # inserisco il token in \"lista_token_tag\"\n",
    "  frequenze = nltk.FreqDist(lista_token_tag) # calcolo le frequenze dei token nella lista\n",
    "  return frequenze.most_common(20) # restituisco i 20 token più frequenti\n",
    "\n",
    "print(f\"20 sostantivi più frequenti nel corpus: {venti_elementi_più_freq(token_pos_2, ['NN', 'NNP', 'NNPS', 'NNS'])}\")\n",
    "print()\n",
    "print(f\"20 avverbi più frequenti nel corpus: {venti_elementi_più_freq(token_pos_2, ['RB'])}\")\n",
    "print()\n",
    "print(f\"20 aggettivi più frequenti nel corpus: {venti_elementi_più_freq(token_pos_2, ['JJ'])}\")"
   ]
  },
  {
   "cell_type": "code",
   "execution_count": 4,
   "metadata": {
    "colab": {
     "base_uri": "https://localhost:8080/"
    },
    "id": "32tmZZ2Bv15L",
    "outputId": "416cad6a-41c9-47e8-b572-fb0d14207478"
   },
   "outputs": [
    {
     "name": "stdout",
     "output_type": "stream",
     "text": [
      "20 bigrammi Aggettivo-Sostantivo più frequenti nel corpus: [((('gravitational', 'JJ'), ('pull', 'NN')), 3), ((('old', 'JJ'), ('woman', 'NN')), 3), ((('left', 'JJ'), ('hand', 'NN')), 3), ((('long', 'JJ'), ('time', 'NN')), 2), ((('second', 'JJ'), ('volume', 'NN')), 2), ((('red', 'JJ'), ('sun', 'NN')), 2), ((('southern', 'JJ'), ('hemisphere', 'NN')), 2), ((('electronic', 'JJ'), ('apparatus', 'NN')), 2), ((('entire', 'JJ'), ('planet', 'NN')), 2), ((('many', 'JJ'), ('times', 'NNS')), 2), ((('old', 'JJ'), ('man', 'NN')), 2), ((('many', 'JJ'), ('people', 'NNS')), 2), ((('defensive', 'JJ'), ('field', 'NN')), 2), ((('wrist', 'JJ'), ('sheath', 'NN')), 2), ((('wide', 'JJ'), ('panoramic', 'NN')), 1), ((('oleaginous', 'JJ'), ('gleam', 'NN')), 1), ((('reddish', 'JJ'), ('oil', 'NN')), 1), ((('crimson', 'JJ'), ('glow', 'NN')), 1), ((('whole', 'JJ'), ('room', 'NN')), 1), ((('book-filled', 'JJ'), ('shelves', 'NNS')), 1)]\n",
      "\n",
      "20 bigrammi Aggettivo-Sostantivo nel corpus con massima probabilità condizionata e relativo valore di probabilità: [((('narrow', 'JJ'), ('looking-glass', 'NN')), 1.0), ((('improvised', 'JJ'), ('reconnaissance', 'NN')), 1.0), ((('fragmentary', 'JJ'), ('indications', 'NNS')), 1.0), ((('posterior', 'JJ'), ('base', 'NN')), 1.0), ((('semiperpetual', 'JJ'), ('renewal', 'NN')), 1.0), ((('intellectual', 'JJ'), ('acceptance', 'NN')), 1.0), ((('twentyfive', 'JJ'), ('times', 'NNS')), 1.0), ((('demisting', 'JJ'), ('device', 'NN')), 1.0), ((('total', 'JJ'), ('silence', 'NN')), 1.0), ((('official', 'JJ'), ('statistics', 'NNS')), 1.0), (((\"world's\", 'JJ'), ('language', 'NN')), 1.0), ((('geological', 'JJ'), ('formation', 'NN')), 1.0), ((('brief', 'JJ'), ('hesitation', 'NN')), 1.0), (((\"won't\", 'JJ'), ('talk', 'NN')), 1.0), ((('cast', 'JJ'), ('nets', 'NNS')), 1.0), ((('paradoxical', 'JJ'), ('formulation', 'NN')), 1.0), ((('elfin', 'JJ'), ('face', 'NN')), 1.0), ((('quick', 'JJ'), ('movements', 'NNS')), 1.0), ((('first-approximation', 'JJ'), ('analysis', 'NN')), 1.0), ((('photo-electric', 'JJ'), ('relay', 'NN')), 1.0)]\n",
      "\n",
      "20 bigrammi Aggettivo-Sostantivo nel corpus con massima MI e relativo valore di MI: [((('narrow', 'JJ'), ('looking-glass', 'NN')), 13.483), ((('improvised', 'JJ'), ('reconnaissance', 'NN')), 13.483), ((('fragmentary', 'JJ'), ('indications', 'NNS')), 13.483), ((('semiperpetual', 'JJ'), ('renewal', 'NN')), 13.483), ((('intellectual', 'JJ'), ('acceptance', 'NN')), 13.483), ((('demisting', 'JJ'), ('device', 'NN')), 13.483), ((('official', 'JJ'), ('statistics', 'NNS')), 13.483), ((('cast', 'JJ'), ('nets', 'NNS')), 13.483), ((('paradoxical', 'JJ'), ('formulation', 'NN')), 13.483), ((('photo-electric', 'JJ'), ('relay', 'NN')), 13.483), ((('cryptic', 'JJ'), ('manifestation', 'NN')), 13.483), ((('unwavering', 'JJ'), ('index', 'NN')), 13.483), ((('mow-Shapley', 'JJ'), ('contentions', 'NNS')), 13.483), ((('colored', 'JJ'), ('glass', 'NN')), 13.483), ((('sensational', 'JJ'), ('exposÃ©', 'NN')), 13.483), ((('unfortunate', 'JJ'), ('accident', 'NN')), 13.483), ((('mis-shapen', 'JJ'), ('forms', 'NNS')), 13.483), ((('modest', 'JJ'), ('item', 'NN')), 13.483), ((('comic', 'JJ'), ('imitation', 'NN')), 13.483), ((('transistorized', 'JJ'), ('circuits', 'NNS')), 13.483)]\n"
     ]
    }
   ],
   "source": [
    "# 2.2. FUNZIONI CHE, ESTRATTI I BIGRAMMI AGGETTIVO-SOSTANTIVO...\n",
    "\n",
    "def bigrammi_aggsost(lista_token_pos):\n",
    "  bigrammi = list(nltk.bigrams(lista_token_pos)) # estraggo tutti i bigrammi del corpus dalla lista di coppie (token, PoS)\n",
    "  bigrammi_aggsost = [] # lista per i soli bigrammi aggettivo-sostantivo\n",
    "  for bigramma in bigrammi: # per ogni bigramma nella lista dei bigrammi\n",
    "    if bigramma[0][1] == \"JJ\" and (bigramma[1][1] == \"NN\" or bigramma[1][1] == \"NNS\" or bigramma[1][1] == \"NNP\" or bigramma[1][1] == \"NNPS\" ):\n",
    "      # ogni bigramma è costituito da due coppie (coppia di indice 0 e coppia di indice 1), dove ogni coppia contiene un token (= elemento di indice 0) e la rispettiva PoS (= 1)\n",
    "      # ... quindi se la PoS del primo token del bigramma è AGG e quella del secondo è SOST\n",
    "      bigrammi_aggsost.append(bigramma) # aggiungo il bigramma alla lista\n",
    "  return bigrammi_aggsost\n",
    "\n",
    "# ... RESTITUISCONO:\n",
    "\n",
    "# A) i 20 più frequenti, con relativa frequenza:\n",
    "\n",
    "def venti_bigr_aggsost_piùfreq(bigrammi):\n",
    "  frequenze = nltk.FreqDist(bigrammi)\n",
    "  return frequenze.most_common(20) \n",
    "\n",
    "bigrammi_aggsost_2 = bigrammi_aggsost(token_pos_2)\n",
    "print(f\"20 bigrammi Aggettivo-Sostantivo più frequenti nel corpus: {venti_bigr_aggsost_piùfreq(bigrammi_aggsost_2)}\")\n",
    "print()\n",
    "\n",
    "# B) i 20 con probabilità condizionata massima e relativo valore di probabilità:\n",
    "\n",
    "def venti_bigr_aggsost_max_probcond(tokens, bigrammi_aggsost):\n",
    "  vocab_bigrammi = list(set(bigrammi_aggsost)) # vocabolario dei bigrammi agg-sost (= lista senza ripetizioni)\n",
    "  lista_bigrammi_prob = [] # lista per le coppie (bigramma, probabilità)\n",
    "  for bigramma in vocab_bigrammi: # per ogni bigramma agg-sost\n",
    "    freq_bigramma = vocab_bigrammi.count(bigramma) # calcolo la frequenza\n",
    "    freq_token_1 = tokens.count(bigramma[0][0]) # calcolo la frequenza del primo token\n",
    "    prob_cond = freq_bigramma/freq_token_1 # calcolo la probabilità condizionata\n",
    "    lista_bigrammi_prob.append((bigramma, prob_cond)) # lo inserisco nella lista\n",
    "  bigrammi_ordinati = sorted(lista_bigrammi_prob, key = lambda x: x[1], reverse = True) # lista di bigrammi ordinati in base al secondo elemento ([1] = valore della probabilità) della tupla (\"key\"), e per valori decrescenti (\"reverse\")\n",
    "  return bigrammi_ordinati[:20] # a partire dalla lista, restituisco con lo slicing i primi 20 bigrammi\n",
    "\n",
    "print(f\"20 bigrammi Aggettivo-Sostantivo nel corpus con massima probabilità condizionata e relativo valore di probabilità: {venti_bigr_aggsost_max_probcond(tokens_2, bigrammi_aggsost_2)}\")\n",
    "print()\n",
    "\n",
    "# C) I 20 con forza associativa (Pointwise Mutual Information, PMI) massima, e relativa PMI:\n",
    "\n",
    "def venti_bigr_aggsost_max_mutua_info(tokens, bigrammi_aggsost):\n",
    "  vocab_bigrammi = list(set(bigrammi_aggsost))\n",
    "  bigrammi_mi = [] # lista per le coppie (bigramma, MI)\n",
    "  for bigramma in vocab_bigrammi: \n",
    "    prob_bigramma = vocab_bigrammi.count(bigramma)/len(tokens) # probabilità del bigramma = frequenza bigramma / lunghezza corpus\n",
    "    prob_token_1 = tokens.count(bigramma[0][0])/len(tokens) # probabilità del primo token del bigramma = frequenza token / lunghezza corpus\n",
    "    prob_token_2 = tokens.count(bigramma[1][0])/len(tokens) # probabilità del secondo token del bigramma = frequenza token / lunghezza corpus\n",
    "    MI = round(math.log(prob_bigramma/(prob_token_1*prob_token_2), 2), 3) # MI arrotondata a 3 cifre decimali\n",
    "    bigrammi_mi.append((bigramma, MI))\n",
    "  bigrammi_ordinati = sorted(bigrammi_mi, key = lambda x: x[1], reverse = True) \n",
    "  return bigrammi_ordinati[:20]\n",
    "        \n",
    "print(f\"20 bigrammi Aggettivo-Sostantivo nel corpus con massima MI e relativo valore di MI: {venti_bigr_aggsost_max_mutua_info(tokens_2, bigrammi_aggsost_2)}\")"
   ]
  },
  {
   "cell_type": "code",
   "execution_count": 5,
   "metadata": {
    "colab": {
     "base_uri": "https://localhost:8080/"
    },
    "id": "rqAk8SZnv9Rp",
    "outputId": "fb805d07-85f7-4ad0-94cc-b2a83fa21855"
   },
   "outputs": [
    {
     "name": "stdout",
     "output_type": "stream",
     "text": [
      "Frase con la media della distribuzione di frequenza dei token più alta e relativa distr. di frequenza: ('Halleck called, and the dummy pressed the attack.', 266.7)\n",
      "\n",
      "Frase con la media della distribuzione di frequenza dei token più bassa e relativa distr. di frequenza: ('Everywhere there was \\nthe same chaos, a general disorder which someone had \\nmade a hasty attempt to disguise.', 0.05)\n",
      "\n",
      "Frase con probabilità più alta secondo un modello di Markov di ordine 2 costruito a partire dal corpus di input: ('The table \\nof classification comprised three definitions: Type: Polythera; Class: Syncytialia; Category: Metamorph.', 8.7e-05)\n"
     ]
    }
   ],
   "source": [
    "# 2.3. FUNZIONI CHE, CONSIDERATE LE FRASI CON UNA LUNGHEZZA COMPRESA TRA 10 E 20 TOKEN, IN CUI ALMENO LA META' DEI TOKEN OCCORRE ALMENO 2 VOLTE NEL CORPUS...\n",
    "\n",
    "def frasi_tra10e20_token(tokens, frasi):\n",
    "  frasi_10_20 = [] # lista di frasi la cui lunghezza in token è compresa tra 10 e 20\n",
    "  for frase in frasi: # per ogni frase nella lista di tutte le frasi del corpus\n",
    "    tokens_frase = nltk.tokenize.word_tokenize(frase) # la tokenizzo\n",
    "    lunghezza_frase = len(tokens_frase) # e ne salvo la lunghezza\n",
    "    if lunghezza_frase >= 10 and lunghezza_frase <= 20: # se la lunghezza della frase è compresa tra i 10 e i 20 token\n",
    "      frasi_10_20.append(frase) # la inserisco nella lista\n",
    "  for frase in frasi_10_20: # per ogni frase lunga dai 10 ai 20 token\n",
    "    tokens_frase_10_20 = nltk.tokenize.word_tokenize(frase) # la tokenizzo\n",
    "    metà = len(tokens_frase_10_20)/2 # calcolo la metà della lunghezza della frase\n",
    "    conta_non_hapax = 0 # conto gli elementi che ricorrono più di una volta nell'intero corpus\n",
    "    for token in tokens_frase_10_20: # per ogni token della frase lunga dai 10 ai 20 token\n",
    "      if tokens.count(token) > 1: # se il token ricorre nel corpus più di una volta\n",
    "        conta_non_hapax += 1 # aggiorno il contatore\n",
    "    if conta_non_hapax < metà: # se il valore del contatore è minore del valore della metà dei token della frase\n",
    "      frasi_10_20.remove(frase) # rimuovo la frase dalla lista\n",
    "    return frasi_10_20\n",
    "\n",
    "# ... RESTITUISCONO: \n",
    "\n",
    "# A. La frase con la media della distribuzione di frequenza dei token più alta:\n",
    "\n",
    "def media_max_distr_freq(tokens, frasi):\n",
    "  media_max = 0 # valore massimo (provvisorio) della media\n",
    "  for frase in frasi: # per ogni frase nella lista di tutte le frasi del corpus\n",
    "    tokens_frase = nltk.tokenize.word_tokenize(frase) # la tokenizzo\n",
    "    lunghezza = len(tokens_frase) # ne salvo la lunghezza\n",
    "    frequenza = 0 # contatore per la frequenza (nel corpus) dei token della frase\n",
    "    for token in tokens_frase: # per ogni token di quelli della frase\n",
    "      frequenza += tokens.count(token) # calcolo la somma di tutte le volte in cui ricorre nel corpus \n",
    "      media = round(frequenza/lunghezza, 3) # calcolo la media della distribuzione di frequenza del token (arrotondata a 3 cifre decimali)\n",
    "      if (media > media_max): # se il valore della media appena calcolato è maggiore di quello massimo al momento\n",
    "        media_max = media # quello appena calcolato è il nuovo valore massimo e quindi lo sotituisco  \n",
    "        frase_max = frase # memorizzo in una variabile la frase che ha quel valore\n",
    "  return frase_max, media_max\n",
    "\n",
    "print(f\"Frase con la media della distribuzione di frequenza dei token più alta e relativa distr. di frequenza: {media_max_distr_freq(tokens_2, (frasi_tra10e20_token(tokens_2, frasi_2)))}\")\n",
    "print()\n",
    "\n",
    "# B. La frase con la media della distribuzione di frequenza dei token più bassa:\n",
    "\n",
    "def media_min_distr_freq(tokens, frasi):\n",
    "  media_min = media_max_distr_freq(tokens, frasi_tra10e20_token(tokens, frasi))[1] # valore minimo (provvisorio) della media; in questo caso, è il valore massimo della media (\"media_max\") calcolato con la funzione precedente\n",
    "  for frase in frasi: \n",
    "    tokens_frase = nltk.tokenize.word_tokenize(frase) \n",
    "    lunghezza = len(tokens_frase) \n",
    "    frequenza = 0 \n",
    "    for token in tokens_frase:\n",
    "      frequenza += tokens.count(token) \n",
    "      media = round(frequenza/lunghezza, 3) \n",
    "      if (media < media_min): # se il valore della media appena calcolato è minore di quello minimo al momento\n",
    "        media_min = media # quello appena calcolato è il nuovo valore minimo e quindi lo sotituisco  \n",
    "        frase_min = frase \n",
    "  return frase_min, media_min\n",
    "\n",
    "print(f\"Frase con la media della distribuzione di frequenza dei token più bassa e relativa distr. di frequenza: {media_min_distr_freq(tokens_2, (frasi_tra10e20_token(tokens_2, frasi_2)))}\")\n",
    "print()\n",
    "\n",
    "# C. La frase con probabilità più alta secondo un modello di Markov di ordine 2 costruito a partire dal corpus di input:\n",
    "\n",
    "def prob_cond_markov2(trigramma, bigramma, tokens): # funzione che restituisce la probabilità condizionata del trigramma dato il bigramma (trattandosi di un modello markoviano di ordine 2)\n",
    "  bigrammi = list(nltk.bigrams(tokens)) # lista dei bigrammi del corpus\n",
    "  trigrammi = list(nltk.trigrams(tokens)) # lista dei trigrammi del corpus\n",
    "  prob_cond = trigrammi.count(trigramma) / bigrammi.count(bigramma) # probabilità condizionata = frequenza del trigramma / frequenza del bigramma\n",
    "  return prob_cond\n",
    "\n",
    "def max_prob_markov_2(tokens, frasi): \n",
    "  bigrammi = list(nltk.bigrams(tokens)) # lista dei bigrammi del corpus\n",
    "  prob_max = 0 # valore massimo (provvisorio) della probabilità\n",
    "  for frase in frasi: # per ogni frase nella lista di tutte le frasi del corpus\n",
    "    tokens_frase = nltk.tokenize.word_tokenize(frase) # la tokenizzo\n",
    "    trigrammi_frase = list(nltk.trigrams(tokens_frase)) # lista per i trigrammi della frase\n",
    "    bigrammi_frase = list(nltk.bigrams(tokens_frase)) # lista per i bigrammi della frase\n",
    "    # probabilità del primo elemento della catena markoviana = probabilità (frequenza relativa) del primo token della frase: \n",
    "    prob_1 = tokens.count(tokens_frase[0]) / len(tokens) # frequenza del token nel corpus / lunghezza del corpus\n",
    "    # probabilità del secondo elemento della catena markoviana = probabilità (frequenza relativa) del primo bigramma dato il primo token:\n",
    "    prob_2 = bigrammi.count(bigrammi_frase[0]) / tokens.count(bigrammi_frase[0][0]) # frequenza del primo bigramma della frase nella lista dei bigrammi del corpus / frequenza del primo token del bigramma nel corpus\n",
    "    prob_frase = round((prob_1*prob_2), 6) # probabilità provvisoria della frase (arrotondata a 6 cifre decimali)\n",
    "    # probabilità degli altri elementi della catena markoviana = prob. dei trigrammi dati i bigrammi\n",
    "    for trigramma in trigrammi_frase: # per ogni trigramma della frase\n",
    "      for bigramma in bigrammi_frase: # per ogni bigramma della frase\n",
    "        prob_cong = prob_cond_markov2(trigramma, bigramma, tokens) # calcolo la probabilità condizionata del trigramma dato il rispettivo bigramma\n",
    "        prob_frase *= prob_cong # aggiorno la probabilità calcolata sopra moltiplicando al suo valore, di volta in volta, i vari prodotti delle probabilità dei trigrammi\n",
    "    if prob_frase > prob_max:\n",
    "      prob_max = prob_frase\n",
    "      frase_max = frase\n",
    "  return frase_max, prob_max\n",
    "\n",
    "print(f\"Frase con probabilità più alta secondo un modello di Markov di ordine 2 costruito a partire dal corpus di input: {max_prob_markov_2(tokens_2, (frasi_tra10e20_token(tokens_2, frasi_2)))}\")"
   ]
  },
  {
   "cell_type": "code",
   "execution_count": 6,
   "metadata": {
    "colab": {
     "base_uri": "https://localhost:8080/"
    },
    "id": "rqm4G-cOwNbc",
    "outputId": "5f61fc49-5c41-4e81-8c27-3c81154894f6"
   },
   "outputs": [
    {
     "name": "stdout",
     "output_type": "stream",
     "text": [
      "15 NE 'PERSON' più frequenti nel corpus: [('Paul', 67), ('Halleck', 29), ('Hawat', 27), ('Rachael', 19), ('Rick', 9), ('Arrakis', 7), ('Solaris', 6), ('Gurney', 6), ('Phil Resch', 4), ('Gurney Halleck', 3), ('Eugel', 2), ('Shannahan', 2), ('Roy Baty', 2), ('Irmgard Baty', 2), ('Pris Stratton', 2)]\n",
      "\n",
      "15 NE 'GPE' più frequenti nel corpus: [('Solaris', 9), ('Gurney', 5), ('Arrakis', 4), ('Fremen', 2), ('Duncan', 2), ('Halleck', 2), ('Gibarian', 1), ('Europe', 1), ('Alpha', 1), ('Aquarius', 1), ('Hughes', 1), ('Syncytialia', 1), ('Earth', 1), ('San Francisco', 1), ('Soviet Union', 1)]\n",
      "\n",
      "15 NE 'ORGANIZATION' più frequenti nel corpus: [('Reverend Mother', 4), ('Institute', 3), ('Harkonnen', 3), ('Ottenskjold', 2), ('Solarist', 2), ('Metamorph', 2), ('Hell', 2), ('Duke', 2), ('Imperium', 2), ('Prometheus', 1), ('Laakon', 1), ('St. Francis', 1), ('Batys', 1), ('Old Duke', 1), ('Guild', 1)]\n"
     ]
    }
   ],
   "source": [
    "# 2.4. FUNZIONE CHE, ESTRATTE LE ENTITA' NOMINATE (NE) DEL TESTO, RESTITUISCE PER CIASCUNA CLASSE DI NE I 15 ELEMENTI PIU' FREQUENTI, ORDINATI PER FREQUENZA DISCENDENTE E CON RELATIVA FREQUENZA:\n",
    "\n",
    "def quindici_ne_più_freq(token_pos, classe_NE):\n",
    "  albero_NE = nltk.ne_chunk(token_pos) # albero di tutte le NE nel testo\n",
    "  token_NE = [] # lista per le coppie (token, classe di NE)\n",
    "  lista_classe_NE = [] # lista per i soli elementi appartenenti ad una certa classe di NE (PERSON o GPE o ORGANIZATION)\n",
    "  for nodo in albero_NE: # per ogni nodo dell'albero\n",
    "    if hasattr(nodo, \"label\"): # se il nodo ha un attributo di tipo \"label\"\n",
    "      tipo_entità = nodo.label() # estraggo la classe di NE\n",
    "      token_entità = \" \".join([token for token, pos in nodo.leaves()]) # scorrendo le foglie dell'albero, considero solo i token\n",
    "      token_NE.append((token_entità, tipo_entità))\n",
    "  for token_entità, tipo_entità in token_NE: # per ogni coppia (token, classe di NE) nella lista\n",
    "    if tipo_entità == classe_NE: # se la classe di NE è uguale a quella in input\n",
    "      lista_classe_NE.append(token_entità) # inserisco il token nella lista apposita per quello specifico tag\n",
    "  frequenze = nltk.FreqDist(lista_classe_NE) # calcolo le frequenze di ciascuna delle 3 liste con FreqDist\n",
    "  return frequenze.most_common(15) #si restituiscono i 15 elementi più frequenti\n",
    "\n",
    "print(f\"15 NE 'PERSON' più frequenti nel corpus: {quindici_ne_più_freq(token_pos_2, 'PERSON')}\")\n",
    "print()\n",
    "print(f\"15 NE 'GPE' più frequenti nel corpus: {quindici_ne_più_freq(token_pos_2, 'GPE')}\")\n",
    "print()\n",
    "print(f\"15 NE 'ORGANIZATION' più frequenti nel corpus: {quindici_ne_più_freq(token_pos_2, 'ORGANIZATION')}\")"
   ]
  }
 ],
 "metadata": {
  "colab": {
   "provenance": []
  },
  "kernelspec": {
   "display_name": "Python 3 (ipykernel)",
   "language": "python",
   "name": "python3"
  },
  "language_info": {
   "codemirror_mode": {
    "name": "ipython",
    "version": 3
   },
   "file_extension": ".py",
   "mimetype": "text/x-python",
   "name": "python",
   "nbconvert_exporter": "python",
   "pygments_lexer": "ipython3",
   "version": "3.10.7"
  }
 },
 "nbformat": 4,
 "nbformat_minor": 4
}
